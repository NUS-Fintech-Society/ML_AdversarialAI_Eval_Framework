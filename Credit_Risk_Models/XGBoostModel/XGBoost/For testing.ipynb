{
 "cells": [
  {
   "cell_type": "code",
   "execution_count": 291,
   "metadata": {},
   "outputs": [],
   "source": [
    "import pandas as pd"
   ]
  },
  {
   "cell_type": "code",
   "execution_count": 292,
   "metadata": {},
   "outputs": [],
   "source": [
    "df = pd.read_csv('../../../Credit_Risk_Data/loan_final313.csv')\n",
    "Y = df['grade_cat']\n",
    "Y = [1 if x <3 else 0 for x in Y]\n",
    "X = df.drop(['grade', 'grade_cat'], axis = 1)"
   ]
  },
  {
   "cell_type": "code",
   "execution_count": 293,
   "metadata": {},
   "outputs": [
    {
     "name": "stdout",
     "output_type": "stream",
     "text": [
      "Requirement already satisfied: adversarial-robustness-toolbox in /opt/anaconda3/lib/python3.7/site-packages (1.2.0)\n",
      "Requirement already satisfied: scikit-learn==0.22.1 in /opt/anaconda3/lib/python3.7/site-packages (from adversarial-robustness-toolbox) (0.22.1)\n",
      "Requirement already satisfied: matplotlib in /opt/anaconda3/lib/python3.7/site-packages (from adversarial-robustness-toolbox) (3.1.3)\n",
      "Requirement already satisfied: numpy in /opt/anaconda3/lib/python3.7/site-packages (from adversarial-robustness-toolbox) (1.18.1)\n",
      "Requirement already satisfied: six in /opt/anaconda3/lib/python3.7/site-packages (from adversarial-robustness-toolbox) (1.14.0)\n",
      "Requirement already satisfied: Pillow==7.0.0 in /opt/anaconda3/lib/python3.7/site-packages (from adversarial-robustness-toolbox) (7.0.0)\n",
      "Requirement already satisfied: scipy in /opt/anaconda3/lib/python3.7/site-packages (from adversarial-robustness-toolbox) (1.4.1)\n",
      "Requirement already satisfied: setuptools in /opt/anaconda3/lib/python3.7/site-packages (from adversarial-robustness-toolbox) (46.0.0.post20200309)\n",
      "Requirement already satisfied: joblib>=0.11 in /opt/anaconda3/lib/python3.7/site-packages (from scikit-learn==0.22.1->adversarial-robustness-toolbox) (0.14.1)\n",
      "Requirement already satisfied: kiwisolver>=1.0.1 in /opt/anaconda3/lib/python3.7/site-packages (from matplotlib->adversarial-robustness-toolbox) (1.1.0)\n",
      "Requirement already satisfied: cycler>=0.10 in /opt/anaconda3/lib/python3.7/site-packages (from matplotlib->adversarial-robustness-toolbox) (0.10.0)\n",
      "Requirement already satisfied: pyparsing!=2.0.4,!=2.1.2,!=2.1.6,>=2.0.1 in /opt/anaconda3/lib/python3.7/site-packages (from matplotlib->adversarial-robustness-toolbox) (2.4.6)\n",
      "Requirement already satisfied: python-dateutil>=2.1 in /opt/anaconda3/lib/python3.7/site-packages (from matplotlib->adversarial-robustness-toolbox) (2.8.1)\n",
      "Note: you may need to restart the kernel to use updated packages.\n"
     ]
    }
   ],
   "source": [
    "%pip install adversarial-robustness-toolbox"
   ]
  },
  {
   "cell_type": "code",
   "execution_count": 294,
   "metadata": {},
   "outputs": [],
   "source": [
    "from DataTransform2 import DataTransform2\n",
    "from sklearn import tree\n",
    "from sklearn.metrics import accuracy_score\n",
    "from art.attacks import DecisionTreeAttack\n",
    "from art.classifiers import SklearnClassifier\n",
    "from sklearn.model_selection import train_test_split\n",
    "from matplotlib import pyplot as plt"
   ]
  },
  {
   "cell_type": "code",
   "execution_count": 295,
   "metadata": {},
   "outputs": [],
   "source": [
    "X_transformed = DataTransform2().transform(X)"
   ]
  },
  {
   "cell_type": "code",
   "execution_count": 296,
   "metadata": {},
   "outputs": [],
   "source": [
    "# create training and testing vars\n",
    "X_train, X_test, y_train, y_test = train_test_split(X_transformed, Y, test_size=0.2)"
   ]
  },
  {
   "cell_type": "code",
   "execution_count": 297,
   "metadata": {},
   "outputs": [],
   "source": [
    "model = tree.DecisionTreeClassifier().fit(X_train,y_train)\n",
    "classifier = SklearnClassifier(model)"
   ]
  },
  {
   "cell_type": "code",
   "execution_count": 298,
   "metadata": {},
   "outputs": [
    {
     "name": "stdout",
     "output_type": "stream",
     "text": [
      "Accuracy of benign samples: 99.97%\n"
     ]
    }
   ],
   "source": [
    "y_benign = classifier.predict(X_test)\n",
    "y_benign = y_benign[:,1]\n",
    "y_benign = pd.DataFrame(y_benign.astype(int))\n",
    "accuracy_benign = accuracy_score(y_test, y_benign)\n",
    "print(\"Accuracy of benign samples: %.2f%%\" % (accuracy_benign * 100.0))"
   ]
  },
  {
   "cell_type": "code",
   "execution_count": 299,
   "metadata": {},
   "outputs": [],
   "source": [
    "#Creafting attack classifier\n",
    "attack = DecisionTreeAttack(classifier)"
   ]
  },
  {
   "cell_type": "code",
   "execution_count": 300,
   "metadata": {},
   "outputs": [],
   "source": [
    "x_adv = attack.generate(X_test)"
   ]
  },
  {
   "cell_type": "code",
   "execution_count": 301,
   "metadata": {},
   "outputs": [],
   "source": [
    "y_adv = classifier.predict(x_adv)\n"
   ]
  },
  {
   "cell_type": "code",
   "execution_count": 302,
   "metadata": {},
   "outputs": [
    {
     "name": "stdout",
     "output_type": "stream",
     "text": [
      "Accuracy for adversarial samples: 11.09%\n"
     ]
    }
   ],
   "source": [
    "y_adv = classifier.predict(x_adv)\n",
    "y_adv = y_adv[:,1]\n",
    "y_adv = pd.DataFrame(y_adv.astype(int))\n",
    "accuracy_adv = accuracy_score(y_test, y_adv)\n",
    "print(\"Accuracy for adversarial samples: %.2f%%\" % (accuracy_adv * 100.0))"
   ]
  },
  {
   "cell_type": "code",
   "execution_count": null,
   "metadata": {},
   "outputs": [],
   "source": []
  }
 ],
 "metadata": {
  "kernelspec": {
   "display_name": "Python 3",
   "language": "python",
   "name": "python3"
  },
  "language_info": {
   "codemirror_mode": {
    "name": "ipython",
    "version": 3
   },
   "file_extension": ".py",
   "mimetype": "text/x-python",
   "name": "python",
   "nbconvert_exporter": "python",
   "pygments_lexer": "ipython3",
   "version": "3.7.6"
  }
 },
 "nbformat": 4,
 "nbformat_minor": 4
}
