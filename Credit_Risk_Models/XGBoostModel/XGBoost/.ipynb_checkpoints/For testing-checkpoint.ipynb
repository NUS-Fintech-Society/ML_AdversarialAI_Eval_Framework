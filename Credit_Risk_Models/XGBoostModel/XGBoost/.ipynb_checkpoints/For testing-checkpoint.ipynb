{
 "cells": [
  {
   "cell_type": "code",
   "execution_count": 291,
   "metadata": {},
   "outputs": [],
   "source": [
    "import pandas as pd"
   ]
  },
  {
   "cell_type": "code",
   "execution_count": null,
   "metadata": {},
   "outputs": [],
   "source": [
    "df = pd.read_csv('../../../Credit_Risk_Data/loan_final313.csv')\n",
    "Y = df['grade_cat']\n",
    "Y = [1 if x <3 else 0 for x in Y]\n",
    "X = df.drop(['grade', 'grade_cat'], axis = 1)"
   ]
  },
  {
   "cell_type": "code",
   "execution_count": null,
   "metadata": {},
   "outputs": [],
   "source": [
    "%pip install adversarial-robustness-toolbox"
   ]
  },
  {
   "cell_type": "code",
   "execution_count": null,
   "metadata": {},
   "outputs": [],
   "source": [
    "from DataTransform2 import DataTransform2\n",
    "from sklearn import tree\n",
    "from sklearn.metrics import accuracy_score\n",
    "from art.attacks import DecisionTreeAttack\n",
    "from art.classifiers import SklearnClassifier\n",
    "from sklearn.model_selection import train_test_split\n",
    "from matplotlib import pyplot as plt"
   ]
  },
  {
   "cell_type": "code",
   "execution_count": null,
   "metadata": {},
   "outputs": [],
   "source": [
    "X_transformed = DataTransform2().transform(X)"
   ]
  },
  {
   "cell_type": "code",
   "execution_count": null,
   "metadata": {},
   "outputs": [],
   "source": [
    "# create training and testing vars\n",
    "X_train, X_test, y_train, y_test = train_test_split(X_transformed, Y, test_size=0.2)"
   ]
  },
  {
   "cell_type": "code",
   "execution_count": null,
   "metadata": {},
   "outputs": [],
   "source": [
    "model = tree.DecisionTreeClassifier().fit(X_train,y_train)\n",
    "classifier = SklearnClassifier(model)"
   ]
  },
  {
   "cell_type": "code",
   "execution_count": null,
   "metadata": {},
   "outputs": [],
   "source": [
    "y_benign = classifier.predict(X_test)\n",
    "y_benign = y_benign[:,1]\n",
    "y_benign = pd.DataFrame(y_benign.astype(int))\n",
    "accuracy_benign = accuracy_score(y_test, y_benign)\n",
    "print(\"Accuracy of benign samples: %.2f%%\" % (accuracy_benign * 100.0))"
   ]
  },
  {
   "cell_type": "code",
   "execution_count": null,
   "metadata": {},
   "outputs": [],
   "source": [
    "#Creafting attack classifier\n",
    "attack = DecisionTreeAttack(classifier)"
   ]
  },
  {
   "cell_type": "code",
   "execution_count": null,
   "metadata": {},
   "outputs": [],
   "source": [
    "x_adv = attack.generate(X_test)"
   ]
  },
  {
   "cell_type": "code",
   "execution_count": null,
   "metadata": {},
   "outputs": [],
   "source": [
    "y_adv = classifier.predict(x_adv)\n"
   ]
  },
  {
   "cell_type": "code",
   "execution_count": null,
   "metadata": {},
   "outputs": [],
   "source": [
    "y_adv = classifier.predict(x_adv)\n",
    "y_adv = y_adv[:,1]\n",
    "y_adv = pd.DataFrame(y_adv.astype(int))\n",
    "accuracy_adv = accuracy_score(y_test, y_adv)\n",
    "print(\"Accuracy for adversarial samples: %.2f%%\" % (accuracy_adv * 100.0))"
   ]
  },
  {
   "cell_type": "code",
   "execution_count": null,
   "metadata": {},
   "outputs": [],
   "source": []
  }
 ],
 "metadata": {
  "kernelspec": {
   "display_name": "Python 3",
   "language": "python",
   "name": "python3"
  },
  "language_info": {
   "codemirror_mode": {
    "name": "ipython",
    "version": 3
   },
   "file_extension": ".py",
   "mimetype": "text/x-python",
   "name": "python",
   "nbconvert_exporter": "python",
   "pygments_lexer": "ipython3",
   "version": "3.7.6"
  }
 },
 "nbformat": 4,
 "nbformat_minor": 4
}
