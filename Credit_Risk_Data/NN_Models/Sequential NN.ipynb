{
 "cells": [
  {
   "cell_type": "code",
   "execution_count": 2,
   "metadata": {},
   "outputs": [
    {
     "name": "stdout",
     "output_type": "stream",
     "text": [
      "Collecting tensorflow\n",
      "  Downloading tensorflow-2.1.0-cp37-cp37m-macosx_10_11_x86_64.whl (120.8 MB)\n",
      "\u001b[K     |████████████████████████████████| 120.8 MB 97 kB/s eta 0:00:013\n",
      "\u001b[?25hCollecting grpcio>=1.8.6\n",
      "  Downloading grpcio-1.28.1-cp37-cp37m-macosx_10_9_x86_64.whl (2.6 MB)\n",
      "\u001b[K     |████████████████████████████████| 2.6 MB 98 kB/s eta 0:00:0131\n",
      "\u001b[?25hCollecting tensorflow-estimator<2.2.0,>=2.1.0rc0\n",
      "  Downloading tensorflow_estimator-2.1.0-py2.py3-none-any.whl (448 kB)\n",
      "\u001b[K     |████████████████████████████████| 448 kB 416 kB/s eta 0:00:01\n",
      "\u001b[?25hCollecting keras-preprocessing>=1.1.0\n",
      "  Downloading Keras_Preprocessing-1.1.0-py2.py3-none-any.whl (41 kB)\n",
      "\u001b[K     |████████████████████████████████| 41 kB 1.4 MB/s  eta 0:00:01\n",
      "\u001b[?25hCollecting opt-einsum>=2.3.2\n",
      "  Downloading opt_einsum-3.2.0-py3-none-any.whl (63 kB)\n",
      "\u001b[K     |████████████████████████████████| 63 kB 4.0 MB/s  eta 0:00:01\n",
      "\u001b[?25hCollecting tensorboard<2.2.0,>=2.1.0\n",
      "  Downloading tensorboard-2.1.1-py3-none-any.whl (3.8 MB)\n",
      "\u001b[K     |████████████████████████████████| 3.8 MB 121 kB/s eta 0:00:011\n",
      "\u001b[?25hRequirement already satisfied: wrapt>=1.11.1 in /opt/anaconda3/lib/python3.7/site-packages (from tensorflow) (1.11.2)\n",
      "Collecting astor>=0.6.0\n",
      "  Downloading astor-0.8.1-py2.py3-none-any.whl (27 kB)\n",
      "Collecting termcolor>=1.1.0\n",
      "  Downloading termcolor-1.1.0.tar.gz (3.9 kB)\n",
      "Collecting gast==0.2.2\n",
      "  Downloading gast-0.2.2.tar.gz (10 kB)\n",
      "Requirement already satisfied: numpy<2.0,>=1.16.0 in /opt/anaconda3/lib/python3.7/site-packages (from tensorflow) (1.18.1)\n",
      "Requirement already satisfied: six>=1.12.0 in /opt/anaconda3/lib/python3.7/site-packages (from tensorflow) (1.14.0)\n",
      "Collecting protobuf>=3.8.0\n",
      "  Downloading protobuf-3.11.3-cp37-cp37m-macosx_10_9_x86_64.whl (1.3 MB)\n",
      "\u001b[K     |████████████████████████████████| 1.3 MB 79 kB/s eta 0:00:0111\n",
      "\u001b[?25hRequirement already satisfied: scipy==1.4.1; python_version >= \"3\" in /opt/anaconda3/lib/python3.7/site-packages (from tensorflow) (1.4.1)\n",
      "Requirement already satisfied: wheel>=0.26; python_version >= \"3\" in /opt/anaconda3/lib/python3.7/site-packages (from tensorflow) (0.34.2)\n",
      "Collecting google-pasta>=0.1.6\n",
      "  Downloading google_pasta-0.2.0-py3-none-any.whl (57 kB)\n",
      "\u001b[K     |████████████████████████████████| 57 kB 9.0 MB/s  eta 0:00:01\n",
      "\u001b[?25hCollecting absl-py>=0.7.0\n",
      "  Downloading absl-py-0.9.0.tar.gz (104 kB)\n",
      "\u001b[K     |████████████████████████████████| 104 kB 425 kB/s eta 0:00:01\n",
      "\u001b[?25hCollecting keras-applications>=1.0.8\n",
      "  Downloading Keras_Applications-1.0.8-py3-none-any.whl (50 kB)\n",
      "\u001b[K     |████████████████████████████████| 50 kB 10.5 MB/s eta 0:00:01\n",
      "\u001b[?25hRequirement already satisfied: setuptools>=41.0.0 in /opt/anaconda3/lib/python3.7/site-packages (from tensorboard<2.2.0,>=2.1.0->tensorflow) (46.0.0.post20200309)\n",
      "Collecting google-auth<2,>=1.6.3\n",
      "  Downloading google_auth-1.13.1-py2.py3-none-any.whl (87 kB)\n",
      "\u001b[K     |████████████████████████████████| 87 kB 109 kB/s ta 0:00:01\n",
      "\u001b[?25hCollecting google-auth-oauthlib<0.5,>=0.4.1\n",
      "  Downloading google_auth_oauthlib-0.4.1-py2.py3-none-any.whl (18 kB)\n",
      "Collecting markdown>=2.6.8\n",
      "  Downloading Markdown-3.2.1-py2.py3-none-any.whl (88 kB)\n",
      "\u001b[K     |████████████████████████████████| 88 kB 87 kB/s eta 0:00:0101\n",
      "\u001b[?25hRequirement already satisfied: requests<3,>=2.21.0 in /opt/anaconda3/lib/python3.7/site-packages (from tensorboard<2.2.0,>=2.1.0->tensorflow) (2.22.0)\n",
      "Requirement already satisfied: werkzeug>=0.11.15 in /opt/anaconda3/lib/python3.7/site-packages (from tensorboard<2.2.0,>=2.1.0->tensorflow) (1.0.0)\n",
      "Requirement already satisfied: h5py in /opt/anaconda3/lib/python3.7/site-packages (from keras-applications>=1.0.8->tensorflow) (2.10.0)\n",
      "Collecting rsa<4.1,>=3.1.4\n",
      "  Downloading rsa-4.0-py2.py3-none-any.whl (38 kB)\n",
      "Collecting cachetools<5.0,>=2.0.0\n",
      "  Downloading cachetools-4.1.0-py3-none-any.whl (10 kB)\n",
      "Collecting pyasn1-modules>=0.2.1\n",
      "  Downloading pyasn1_modules-0.2.8-py2.py3-none-any.whl (155 kB)\n",
      "\u001b[K     |████████████████████████████████| 155 kB 450 kB/s eta 0:00:01\n",
      "\u001b[?25hCollecting requests-oauthlib>=0.7.0\n",
      "  Downloading requests_oauthlib-1.3.0-py2.py3-none-any.whl (23 kB)\n",
      "Requirement already satisfied: chardet<3.1.0,>=3.0.2 in /opt/anaconda3/lib/python3.7/site-packages (from requests<3,>=2.21.0->tensorboard<2.2.0,>=2.1.0->tensorflow) (3.0.4)\n",
      "Requirement already satisfied: certifi>=2017.4.17 in /opt/anaconda3/lib/python3.7/site-packages (from requests<3,>=2.21.0->tensorboard<2.2.0,>=2.1.0->tensorflow) (2019.11.28)\n",
      "Requirement already satisfied: urllib3!=1.25.0,!=1.25.1,<1.26,>=1.21.1 in /opt/anaconda3/lib/python3.7/site-packages (from requests<3,>=2.21.0->tensorboard<2.2.0,>=2.1.0->tensorflow) (1.25.8)\n",
      "Requirement already satisfied: idna<2.9,>=2.5 in /opt/anaconda3/lib/python3.7/site-packages (from requests<3,>=2.21.0->tensorboard<2.2.0,>=2.1.0->tensorflow) (2.8)\n",
      "Collecting pyasn1>=0.1.3\n",
      "  Downloading pyasn1-0.4.8-py2.py3-none-any.whl (77 kB)\n",
      "\u001b[K     |████████████████████████████████| 77 kB 97 kB/s eta 0:00:0101\n",
      "\u001b[?25hCollecting oauthlib>=3.0.0\n",
      "  Downloading oauthlib-3.1.0-py2.py3-none-any.whl (147 kB)\n",
      "\u001b[K     |████████████████████████████████| 147 kB 492 kB/s eta 0:00:01\n",
      "\u001b[?25hBuilding wheels for collected packages: termcolor, gast, absl-py\n",
      "  Building wheel for termcolor (setup.py) ... \u001b[?25ldone\n",
      "\u001b[?25h  Created wheel for termcolor: filename=termcolor-1.1.0-py3-none-any.whl size=4830 sha256=9919e052b47c37fa53bff45e4afa41dfed562d9935ee7c1fd846b1a38531bc4a\n",
      "  Stored in directory: /Users/chengjunlam/Library/Caches/pip/wheels/3f/e3/ec/8a8336ff196023622fbcb36de0c5a5c218cbb24111d1d4c7f2\n",
      "  Building wheel for gast (setup.py) ... \u001b[?25ldone\n",
      "\u001b[?25h  Created wheel for gast: filename=gast-0.2.2-py3-none-any.whl size=7539 sha256=ae89d49e250e5e66abf7ef06af22c44f85c2068bc3b808273ff0680d54777efc\n",
      "  Stored in directory: /Users/chengjunlam/Library/Caches/pip/wheels/21/7f/02/420f32a803f7d0967b48dd823da3f558c5166991bfd204eef3\n",
      "  Building wheel for absl-py (setup.py) ... \u001b[?25ldone\n",
      "\u001b[?25h  Created wheel for absl-py: filename=absl_py-0.9.0-py3-none-any.whl size=121931 sha256=07cbec69e71d7a9f6fcc2319e467ef527a0501d25d228c4e8ca226e75be2b82d\n",
      "  Stored in directory: /Users/chengjunlam/Library/Caches/pip/wheels/cc/af/1a/498a24d0730ef484019e007bb9e8cef3ac00311a672c049a3e\n",
      "Successfully built termcolor gast absl-py\n",
      "Installing collected packages: grpcio, tensorflow-estimator, keras-preprocessing, opt-einsum, protobuf, pyasn1, rsa, cachetools, pyasn1-modules, google-auth, oauthlib, requests-oauthlib, google-auth-oauthlib, markdown, absl-py, tensorboard, astor, termcolor, gast, google-pasta, keras-applications, tensorflow\n",
      "Successfully installed absl-py-0.9.0 astor-0.8.1 cachetools-4.1.0 gast-0.2.2 google-auth-1.13.1 google-auth-oauthlib-0.4.1 google-pasta-0.2.0 grpcio-1.28.1 keras-applications-1.0.8 keras-preprocessing-1.1.0 markdown-3.2.1 oauthlib-3.1.0 opt-einsum-3.2.0 protobuf-3.11.3 pyasn1-0.4.8 pyasn1-modules-0.2.8 requests-oauthlib-1.3.0 rsa-4.0 tensorboard-2.1.1 tensorflow-2.1.0 tensorflow-estimator-2.1.0 termcolor-1.1.0\n",
      "Note: you may need to restart the kernel to use updated packages.\n"
     ]
    }
   ],
   "source": [
    "%pip install tensorflow"
   ]
  },
  {
   "cell_type": "code",
   "execution_count": 5,
   "metadata": {},
   "outputs": [
    {
     "name": "stdout",
     "output_type": "stream",
     "text": [
      "Collecting keras\n",
      "  Downloading Keras-2.3.1-py2.py3-none-any.whl (377 kB)\n",
      "\u001b[K     |████████████████████████████████| 377 kB 48 kB/s eta 0:00:01\n",
      "\u001b[?25hRequirement already satisfied: numpy>=1.9.1 in /opt/anaconda3/lib/python3.7/site-packages (from keras) (1.18.1)\n",
      "Requirement already satisfied: pyyaml in /opt/anaconda3/lib/python3.7/site-packages (from keras) (5.3)\n",
      "Requirement already satisfied: keras-applications>=1.0.6 in /opt/anaconda3/lib/python3.7/site-packages (from keras) (1.0.8)\n",
      "Requirement already satisfied: keras-preprocessing>=1.0.5 in /opt/anaconda3/lib/python3.7/site-packages (from keras) (1.1.0)\n",
      "Requirement already satisfied: six>=1.9.0 in /opt/anaconda3/lib/python3.7/site-packages (from keras) (1.14.0)\n",
      "Requirement already satisfied: scipy>=0.14 in /opt/anaconda3/lib/python3.7/site-packages (from keras) (1.4.1)\n",
      "Requirement already satisfied: h5py in /opt/anaconda3/lib/python3.7/site-packages (from keras) (2.10.0)\n",
      "Installing collected packages: keras\n",
      "Successfully installed keras-2.3.1\n",
      "Note: you may need to restart the kernel to use updated packages.\n"
     ]
    }
   ],
   "source": [
    "%pip install keras"
   ]
  },
  {
   "cell_type": "code",
   "execution_count": 6,
   "metadata": {},
   "outputs": [
    {
     "name": "stderr",
     "output_type": "stream",
     "text": [
      "Using TensorFlow backend.\n"
     ]
    }
   ],
   "source": [
    "import numpy as np\n",
    "import pandas as pd\n",
    "import itertools\n",
    "from sklearn import preprocessing\n",
    "from sklearn.model_selection import train_test_split\n",
    "from sklearn.preprocessing import MinMaxScaler\n",
    "import matplotlib.pyplot as plt\n",
    "import tensorflow as tf\n",
    "import seaborn as sns\n",
    "from tensorflow import keras\n",
    "from tensorflow.keras import layers\n",
    "from tensorflow.python.framework import ops\n",
    "from tensorflow.python.saved_model import loader\n",
    "from tensorflow.python.saved_model import tag_constants\n",
    "from tensorflow.python.util import compat\n",
    "df = pd.read_csv(\"../loan_final313.csv\", low_memory=False)\n",
    "from keras.models import Sequential\n",
    "from keras.layers import Dense"
   ]
  },
  {
   "cell_type": "code",
   "execution_count": 7,
   "metadata": {},
   "outputs": [
    {
     "data": {
      "text/html": [
       "<div>\n",
       "<style scoped>\n",
       "    .dataframe tbody tr th:only-of-type {\n",
       "        vertical-align: middle;\n",
       "    }\n",
       "\n",
       "    .dataframe tbody tr th {\n",
       "        vertical-align: top;\n",
       "    }\n",
       "\n",
       "    .dataframe thead th {\n",
       "        text-align: right;\n",
       "    }\n",
       "</style>\n",
       "<table border=\"1\" class=\"dataframe\">\n",
       "  <thead>\n",
       "    <tr style=\"text-align: right;\">\n",
       "      <th></th>\n",
       "      <th>id</th>\n",
       "      <th>year</th>\n",
       "      <th>issue_d</th>\n",
       "      <th>final_d</th>\n",
       "      <th>emp_length_int</th>\n",
       "      <th>home_ownership</th>\n",
       "      <th>home_ownership_cat</th>\n",
       "      <th>income_category</th>\n",
       "      <th>annual_inc</th>\n",
       "      <th>income_cat</th>\n",
       "      <th>...</th>\n",
       "      <th>loan_condition_cat</th>\n",
       "      <th>interest_rate</th>\n",
       "      <th>grade</th>\n",
       "      <th>grade_cat</th>\n",
       "      <th>dti</th>\n",
       "      <th>total_pymnt</th>\n",
       "      <th>total_rec_prncp</th>\n",
       "      <th>recoveries</th>\n",
       "      <th>installment</th>\n",
       "      <th>region</th>\n",
       "    </tr>\n",
       "  </thead>\n",
       "  <tbody>\n",
       "    <tr>\n",
       "      <th>0</th>\n",
       "      <td>1077501</td>\n",
       "      <td>2011</td>\n",
       "      <td>01/12/2011</td>\n",
       "      <td>1012015</td>\n",
       "      <td>10.0</td>\n",
       "      <td>RENT</td>\n",
       "      <td>1</td>\n",
       "      <td>Low</td>\n",
       "      <td>24000</td>\n",
       "      <td>1</td>\n",
       "      <td>...</td>\n",
       "      <td>0</td>\n",
       "      <td>10.65</td>\n",
       "      <td>B</td>\n",
       "      <td>2</td>\n",
       "      <td>27.65</td>\n",
       "      <td>5861.071414</td>\n",
       "      <td>5000.00</td>\n",
       "      <td>0.00</td>\n",
       "      <td>162.87</td>\n",
       "      <td>munster</td>\n",
       "    </tr>\n",
       "    <tr>\n",
       "      <th>1</th>\n",
       "      <td>1077430</td>\n",
       "      <td>2011</td>\n",
       "      <td>01/12/2011</td>\n",
       "      <td>1042013</td>\n",
       "      <td>0.5</td>\n",
       "      <td>RENT</td>\n",
       "      <td>1</td>\n",
       "      <td>Low</td>\n",
       "      <td>30000</td>\n",
       "      <td>1</td>\n",
       "      <td>...</td>\n",
       "      <td>1</td>\n",
       "      <td>15.27</td>\n",
       "      <td>C</td>\n",
       "      <td>3</td>\n",
       "      <td>1.00</td>\n",
       "      <td>1008.710000</td>\n",
       "      <td>456.46</td>\n",
       "      <td>117.08</td>\n",
       "      <td>59.83</td>\n",
       "      <td>leinster</td>\n",
       "    </tr>\n",
       "    <tr>\n",
       "      <th>2</th>\n",
       "      <td>1077175</td>\n",
       "      <td>2011</td>\n",
       "      <td>01/12/2011</td>\n",
       "      <td>1062014</td>\n",
       "      <td>10.0</td>\n",
       "      <td>RENT</td>\n",
       "      <td>1</td>\n",
       "      <td>Low</td>\n",
       "      <td>12252</td>\n",
       "      <td>1</td>\n",
       "      <td>...</td>\n",
       "      <td>0</td>\n",
       "      <td>15.96</td>\n",
       "      <td>C</td>\n",
       "      <td>3</td>\n",
       "      <td>8.72</td>\n",
       "      <td>3003.653644</td>\n",
       "      <td>2400.00</td>\n",
       "      <td>0.00</td>\n",
       "      <td>84.33</td>\n",
       "      <td>cannught</td>\n",
       "    </tr>\n",
       "    <tr>\n",
       "      <th>3</th>\n",
       "      <td>1076863</td>\n",
       "      <td>2011</td>\n",
       "      <td>01/12/2011</td>\n",
       "      <td>1012015</td>\n",
       "      <td>10.0</td>\n",
       "      <td>RENT</td>\n",
       "      <td>1</td>\n",
       "      <td>Low</td>\n",
       "      <td>49200</td>\n",
       "      <td>1</td>\n",
       "      <td>...</td>\n",
       "      <td>0</td>\n",
       "      <td>13.49</td>\n",
       "      <td>C</td>\n",
       "      <td>3</td>\n",
       "      <td>20.00</td>\n",
       "      <td>12226.302210</td>\n",
       "      <td>10000.00</td>\n",
       "      <td>0.00</td>\n",
       "      <td>339.31</td>\n",
       "      <td>ulster</td>\n",
       "    </tr>\n",
       "    <tr>\n",
       "      <th>4</th>\n",
       "      <td>1075358</td>\n",
       "      <td>2011</td>\n",
       "      <td>01/12/2011</td>\n",
       "      <td>1012016</td>\n",
       "      <td>1.0</td>\n",
       "      <td>RENT</td>\n",
       "      <td>1</td>\n",
       "      <td>Low</td>\n",
       "      <td>80000</td>\n",
       "      <td>1</td>\n",
       "      <td>...</td>\n",
       "      <td>0</td>\n",
       "      <td>12.69</td>\n",
       "      <td>B</td>\n",
       "      <td>2</td>\n",
       "      <td>17.94</td>\n",
       "      <td>3242.170000</td>\n",
       "      <td>2233.10</td>\n",
       "      <td>0.00</td>\n",
       "      <td>67.79</td>\n",
       "      <td>ulster</td>\n",
       "    </tr>\n",
       "  </tbody>\n",
       "</table>\n",
       "<p>5 rows × 30 columns</p>\n",
       "</div>"
      ],
      "text/plain": [
       "        id  year     issue_d  final_d  emp_length_int home_ownership  \\\n",
       "0  1077501  2011  01/12/2011  1012015            10.0           RENT   \n",
       "1  1077430  2011  01/12/2011  1042013             0.5           RENT   \n",
       "2  1077175  2011  01/12/2011  1062014            10.0           RENT   \n",
       "3  1076863  2011  01/12/2011  1012015            10.0           RENT   \n",
       "4  1075358  2011  01/12/2011  1012016             1.0           RENT   \n",
       "\n",
       "   home_ownership_cat income_category  annual_inc  income_cat  ...  \\\n",
       "0                   1             Low       24000           1  ...   \n",
       "1                   1             Low       30000           1  ...   \n",
       "2                   1             Low       12252           1  ...   \n",
       "3                   1             Low       49200           1  ...   \n",
       "4                   1             Low       80000           1  ...   \n",
       "\n",
       "   loan_condition_cat interest_rate  grade grade_cat    dti   total_pymnt  \\\n",
       "0                   0         10.65      B         2  27.65   5861.071414   \n",
       "1                   1         15.27      C         3   1.00   1008.710000   \n",
       "2                   0         15.96      C         3   8.72   3003.653644   \n",
       "3                   0         13.49      C         3  20.00  12226.302210   \n",
       "4                   0         12.69      B         2  17.94   3242.170000   \n",
       "\n",
       "   total_rec_prncp recoveries  installment    region  \n",
       "0          5000.00       0.00       162.87   munster  \n",
       "1           456.46     117.08        59.83  leinster  \n",
       "2          2400.00       0.00        84.33  cannught  \n",
       "3         10000.00       0.00       339.31    ulster  \n",
       "4          2233.10       0.00        67.79    ulster  \n",
       "\n",
       "[5 rows x 30 columns]"
      ]
     },
     "execution_count": 7,
     "metadata": {},
     "output_type": "execute_result"
    }
   ],
   "source": [
    "df.head()"
   ]
  },
  {
   "cell_type": "code",
   "execution_count": 8,
   "metadata": {},
   "outputs": [
    {
     "name": "stdout",
     "output_type": "stream",
     "text": [
      "<class 'pandas.core.frame.DataFrame'>\n",
      "RangeIndex: 887379 entries, 0 to 887378\n",
      "Data columns (total 30 columns):\n",
      " #   Column                Non-Null Count   Dtype  \n",
      "---  ------                --------------   -----  \n",
      " 0   id                    887379 non-null  int64  \n",
      " 1   year                  887379 non-null  int64  \n",
      " 2   issue_d               887379 non-null  object \n",
      " 3   final_d               887379 non-null  int64  \n",
      " 4   emp_length_int        887379 non-null  float64\n",
      " 5   home_ownership        887379 non-null  object \n",
      " 6   home_ownership_cat    887379 non-null  int64  \n",
      " 7   income_category       887379 non-null  object \n",
      " 8   annual_inc            887379 non-null  int64  \n",
      " 9   income_cat            887379 non-null  int64  \n",
      " 10  loan_amount           887379 non-null  int64  \n",
      " 11  term                  887379 non-null  object \n",
      " 12  term_cat              887379 non-null  int64  \n",
      " 13  application_type      887379 non-null  object \n",
      " 14  application_type_cat  887379 non-null  int64  \n",
      " 15  purpose               887379 non-null  object \n",
      " 16  purpose_cat           887379 non-null  int64  \n",
      " 17  interest_payments     887379 non-null  object \n",
      " 18  interest_payment_cat  887379 non-null  int64  \n",
      " 19  loan_condition        887379 non-null  object \n",
      " 20  loan_condition_cat    887379 non-null  int64  \n",
      " 21  interest_rate         887379 non-null  float64\n",
      " 22  grade                 887379 non-null  object \n",
      " 23  grade_cat             887379 non-null  int64  \n",
      " 24  dti                   887379 non-null  float64\n",
      " 25  total_pymnt           887379 non-null  float64\n",
      " 26  total_rec_prncp       887379 non-null  float64\n",
      " 27  recoveries            887379 non-null  float64\n",
      " 28  installment           887379 non-null  float64\n",
      " 29  region                887379 non-null  object \n",
      "dtypes: float64(7), int64(13), object(10)\n",
      "memory usage: 203.1+ MB\n"
     ]
    }
   ],
   "source": [
    "df.info()"
   ]
  },
  {
   "cell_type": "code",
   "execution_count": 9,
   "metadata": {},
   "outputs": [
    {
     "data": {
      "text/plain": [
       "<matplotlib.axes._subplots.AxesSubplot at 0x1a251141d0>"
      ]
     },
     "execution_count": 9,
     "metadata": {},
     "output_type": "execute_result"
    },
    {
     "data": {
      "image/png": "[encoded data removed]",
      "text/plain": [
       "<Figure size 1152x576 with 2 Axes>"
      ]
     },
     "metadata": {
      "needs_background": "light"
     },
     "output_type": "display_data"
    }
   ],
   "source": [
    "plt.figure(figsize=(16,8))\n",
    "sns.heatmap(df.corr(), cmap = 'coolwarm')"
   ]
  },
  {
   "cell_type": "markdown",
   "metadata": {},
   "source": [
    "Function to create a new column for independent variable"
   ]
  },
  {
   "cell_type": "code",
   "execution_count": 10,
   "metadata": {},
   "outputs": [],
   "source": [
    "def defaulted(x):\n",
    "    if x == 'Good Loan':\n",
    "        return 0\n",
    "    else:\n",
    "        return 1"
   ]
  },
  {
   "cell_type": "code",
   "execution_count": 11,
   "metadata": {},
   "outputs": [],
   "source": [
    "df['default'] = df['loan_condition'].apply(lambda x: defaulted(x))"
   ]
  },
  {
   "cell_type": "markdown",
   "metadata": {},
   "source": [
    "Exploratory Data Analysis"
   ]
  },
  {
   "cell_type": "markdown",
   "metadata": {},
   "source": [
    "After scanning through the data, the following columns can be dropped from the df since they will not be essential in predicting the final output.\n",
    "\n",
    "id : Identification number for each individual <br> \n",
    "year: Year the loan was issued <br> \n",
    "issue_d: Issue Date <br> \n",
    "final_d: Final Date <br> \n",
    "application_type & application_type_cat : Individual or Joint <br> \n",
    "loan_condition & loan_condition_cat: already converted to 'default' <br> \n",
    "grade & grade_cat: Loan grade<br> \n",
    "total_pymt: total payment<br> \n",
    "total_rec_prncp: total recovered principal<br> \n",
    "recoveries: recoveries<br> \n",
    "installment: installment<br> \n",
    "region: region<br> "
   ]
  },
  {
   "cell_type": "code",
   "execution_count": 12,
   "metadata": {},
   "outputs": [],
   "source": [
    "df.drop(['grade', 'grade_cat', 'id', 'year', 'issue_d', 'final_d', 'application_type',\n",
    "        'application_type_cat', 'loan_condition', 'loan_condition_cat', \n",
    "         'total_pymnt', 'total_rec_prncp', 'recoveries', 'installment', 'region'],axis=1,inplace=True)"
   ]
  },
  {
   "cell_type": "code",
   "execution_count": 13,
   "metadata": {},
   "outputs": [],
   "source": [
    "# emp_length_int: Employment length in years\n",
    "# Scale to 0 -> 1\n",
    "scaler = MinMaxScaler()\n",
    "df['emp_length_int'] = scaler.fit_transform(df['emp_length_int'].values.reshape(-1,1))"
   ]
  },
  {
   "cell_type": "code",
   "execution_count": 14,
   "metadata": {},
   "outputs": [
    {
     "data": {
      "text/plain": [
       "<matplotlib.axes._subplots.AxesSubplot at 0x1a456b4a90>"
      ]
     },
     "execution_count": 14,
     "metadata": {},
     "output_type": "execute_result"
    },
    {
     "data": {
      "image/png": "[encoded data removed]",
      "text/plain": [
       "<Figure size 864x432 with 1 Axes>"
      ]
     },
     "metadata": {
      "needs_background": "light"
     },
     "output_type": "display_data"
    }
   ],
   "source": [
    "#home_ownership: Home Owndership status --> One-hot encode\n",
    "plt.figure(figsize=(12,6))\n",
    "sns.countplot(x='home_ownership',data=df, hue='default')"
   ]
  },
  {
   "cell_type": "markdown",
   "metadata": {},
   "source": [
    "Since we can see that there are no borrowers in 'OTHER', 'NONE' and 'ANY', drop them"
   ]
  },
  {
   "cell_type": "code",
   "execution_count": 15,
   "metadata": {},
   "outputs": [],
   "source": [
    "df = pd.concat([df, pd.get_dummies(df['home_ownership'])],\n",
    "               axis=1).drop(['home_ownership', 'home_ownership_cat'],axis=1)\n",
    "\n",
    "df.drop(['OTHER', 'NONE', 'ANY'],axis=1,inplace=True)"
   ]
  },
  {
   "cell_type": "code",
   "execution_count": 16,
   "metadata": {},
   "outputs": [],
   "source": [
    "#income_category: Low, Medium, or High\n",
    "df = pd.concat([df, pd.get_dummies(df['income_category'])],\n",
    "               axis=1).drop(['income_category', 'income_cat'],axis=1)"
   ]
  },
  {
   "cell_type": "code",
   "execution_count": 17,
   "metadata": {},
   "outputs": [],
   "source": [
    "#annual_inc Scale to 0 -> 1\n",
    "df['annual_inc'] = scaler.fit_transform(df['annual_inc'].values.reshape(-1,1))"
   ]
  },
  {
   "cell_type": "code",
   "execution_count": 18,
   "metadata": {},
   "outputs": [],
   "source": [
    "#loan_amount Scale to 0 -> 1\n",
    "df['loan_amount'] = scaler.fit_transform(df['loan_amount'].values.reshape(-1,1))"
   ]
  },
  {
   "cell_type": "code",
   "execution_count": 19,
   "metadata": {},
   "outputs": [
    {
     "data": {
      "text/plain": [
       "array([' 36 months', ' 60 months'], dtype=object)"
      ]
     },
     "execution_count": 19,
     "metadata": {},
     "output_type": "execute_result"
    }
   ],
   "source": [
    "# term: Length of the loan\n",
    "df['term'].unique()"
   ]
  },
  {
   "cell_type": "code",
   "execution_count": 20,
   "metadata": {},
   "outputs": [],
   "source": [
    "#one-hot encode\n",
    "df = pd.concat([df, pd.get_dummies(df['term_cat'],prefix='term')],\n",
    "               axis=1).drop(['term', 'term_cat'],axis=1)"
   ]
  },
  {
   "cell_type": "code",
   "execution_count": 21,
   "metadata": {},
   "outputs": [
    {
     "data": {
      "text/plain": [
       "array(['credit_card', 'car', 'small_business', 'other', 'wedding',\n",
       "       'debt_consolidation', 'home_improvement', 'major_purchase',\n",
       "       'medical', 'moving', 'vacation', 'house', 'renewable_energy',\n",
       "       'educational'], dtype=object)"
      ]
     },
     "execution_count": 21,
     "metadata": {},
     "output_type": "execute_result"
    }
   ],
   "source": [
    "# purpose: Reason for issuing loan\n",
    "df['purpose'].unique()"
   ]
  },
  {
   "cell_type": "code",
   "execution_count": 22,
   "metadata": {},
   "outputs": [
    {
     "data": {
      "text/plain": [
       "<matplotlib.axes._subplots.AxesSubplot at 0x1a2619b950>"
      ]
     },
     "execution_count": 22,
     "metadata": {},
     "output_type": "execute_result"
    },
    {
     "data": {
      "image/png": "[encoded data removed]",
      "text/plain": [
       "<Figure size 864x432 with 1 Axes>"
      ]
     },
     "metadata": {
      "needs_background": "light"
     },
     "output_type": "display_data"
    }
   ],
   "source": [
    "plt.figure(figsize=(12,6))\n",
    "sns.countplot(x='purpose',data=df, hue='default')\n"
   ]
  },
  {
   "cell_type": "code",
   "execution_count": 23,
   "metadata": {},
   "outputs": [],
   "source": [
    "#remove those variables that are skewed/ have little entries"
   ]
  },
  {
   "cell_type": "code",
   "execution_count": 24,
   "metadata": {},
   "outputs": [],
   "source": [
    "df = pd.concat([df, pd.get_dummies(df['purpose'])],\n",
    "               axis=1).drop(['purpose', 'purpose_cat'],axis=1)\n",
    "\n",
    "df.drop(['car', 'small_business', 'other', 'wedding', 'home_improvement', 'major_purchase',\n",
    "       'medical', 'moving', 'vacation', 'house', 'renewable_energy',\n",
    "       'educational'],axis=1, inplace=True)"
   ]
  },
  {
   "cell_type": "code",
   "execution_count": 25,
   "metadata": {},
   "outputs": [],
   "source": [
    "# interest_payments: Low or High\n",
    "df = pd.concat([df, pd.get_dummies(df['interest_payments'],prefix='int')],\n",
    "               axis=1).drop(['interest_payments', 'interest_payment_cat'],axis=1)\n",
    "\n",
    "df.drop('int_High',axis=1,inplace=True)"
   ]
  },
  {
   "cell_type": "code",
   "execution_count": 26,
   "metadata": {},
   "outputs": [],
   "source": [
    "# interest rate -> scale 0-1\n",
    "df['interest_rate'] = scaler.fit_transform(df['interest_rate'].values.reshape(-1,1))"
   ]
  },
  {
   "cell_type": "code",
   "execution_count": 27,
   "metadata": {},
   "outputs": [],
   "source": [
    "# dti: Ratio of monthly debt payments to annual income scale to 0 -> 1\n",
    "df['dti'] = scaler.fit_transform(df['dti'].values.reshape(-1,1))"
   ]
  },
  {
   "cell_type": "code",
   "execution_count": 28,
   "metadata": {
    "scrolled": true
   },
   "outputs": [
    {
     "name": "stdout",
     "output_type": "stream",
     "text": [
      "<class 'pandas.core.frame.DataFrame'>\n",
      "RangeIndex: 887379 entries, 0 to 887378\n",
      "Data columns (total 17 columns):\n",
      " #   Column              Non-Null Count   Dtype  \n",
      "---  ------              --------------   -----  \n",
      " 0   emp_length_int      887379 non-null  float64\n",
      " 1   annual_inc          887379 non-null  float64\n",
      " 2   loan_amount         887379 non-null  float64\n",
      " 3   interest_rate       887379 non-null  float64\n",
      " 4   dti                 887379 non-null  float64\n",
      " 5   default             887379 non-null  int64  \n",
      " 6   MORTGAGE            887379 non-null  uint8  \n",
      " 7   OWN                 887379 non-null  uint8  \n",
      " 8   RENT                887379 non-null  uint8  \n",
      " 9   High                887379 non-null  uint8  \n",
      " 10  Low                 887379 non-null  uint8  \n",
      " 11  Medium              887379 non-null  uint8  \n",
      " 12  term_1              887379 non-null  uint8  \n",
      " 13  term_2              887379 non-null  uint8  \n",
      " 14  credit_card         887379 non-null  uint8  \n",
      " 15  debt_consolidation  887379 non-null  uint8  \n",
      " 16  int_Low             887379 non-null  uint8  \n",
      "dtypes: float64(5), int64(1), uint8(11)\n",
      "memory usage: 49.9 MB\n"
     ]
    }
   ],
   "source": [
    "#Final df to be used:\n",
    "df.info()"
   ]
  },
  {
   "cell_type": "markdown",
   "metadata": {},
   "source": [
    "## Train Test Split"
   ]
  },
  {
   "cell_type": "code",
   "execution_count": 29,
   "metadata": {},
   "outputs": [],
   "source": [
    "X = df.drop('default',axis=1)\n",
    "y = df['default']\n",
    "X_train, X_test, y_train, y_test = train_test_split(X, y, test_size=0.2, random_state=100)"
   ]
  },
  {
   "cell_type": "code",
   "execution_count": 30,
   "metadata": {},
   "outputs": [],
   "source": [
    "FEATURES = ['debt_consolidation','emp_length_int', 'annual_inc', \n",
    "            'loan_amount', 'interest_rate', 'dti', 'MORTGAGE', 'OWN', 'RENT', 'High',\n",
    "            'Low', 'Medium', 'term_1', 'term_2', 'credit_card', 'debt_consolidation', \n",
    "            'int_Low'] \n",
    "\n",
    "COLUMNS = ['debt_consolidation','emp_length_int', 'annual_inc', \n",
    "            'loan_amount', 'interest_rate', 'dti', 'MORTGAGE', 'OWN', 'RENT', 'High',\n",
    "            'Low', 'Medium', 'term_1', 'term_2', 'credit_card', 'debt_consolidation', \n",
    "            'int_Low', 'default'] \n",
    "\n",
    "LABEL = 'default'"
   ]
  },
  {
   "cell_type": "code",
   "execution_count": 31,
   "metadata": {},
   "outputs": [],
   "source": [
    "model = Sequential()\n",
    "model.add(Dense(12, input_dim=16, activation='relu'))\n",
    "model.add(Dense(8, activation='relu'))\n",
    "model.add(Dense(1, activation='sigmoid'))"
   ]
  },
  {
   "cell_type": "code",
   "execution_count": 33,
   "metadata": {
    "scrolled": true
   },
   "outputs": [
    {
     "name": "stdout",
     "output_type": "stream",
     "text": [
      "Epoch 1/5\n",
      "709903/709903 [==============================] - 50s 70us/step - loss: 0.0677 - mae: 0.1352 - mse: 0.0677\n",
      "Epoch 2/5\n",
      "  2050/709903 [..............................] - ETA: 1:09 - loss: 0.0657 - mae: 0.1332 - mse: 0.0657 "
     ]
    },
    {
     "name": "stderr",
     "output_type": "stream",
     "text": [
      "/opt/anaconda3/lib/python3.7/site-packages/keras/callbacks/callbacks.py:846: RuntimeWarning: Early stopping conditioned on metric `val_loss` which is not available. Available metrics are: loss,mae,mse\n",
      "  (self.monitor, ','.join(list(logs.keys()))), RuntimeWarning\n"
     ]
    },
    {
     "name": "stdout",
     "output_type": "stream",
     "text": [
      "709903/709903 [==============================] - 50s 70us/step - loss: 0.0677 - mae: 0.1351 - mse: 0.0677\n",
      "Epoch 3/5\n",
      "709903/709903 [==============================] - 49s 70us/step - loss: 0.0676 - mae: 0.1351 - mse: 0.0676\n",
      "Epoch 4/5\n",
      "709903/709903 [==============================] - 50s 70us/step - loss: 0.0676 - mae: 0.1350 - mse: 0.0676\n",
      "Epoch 5/5\n",
      "709903/709903 [==============================] - 73s 102us/step - loss: 0.0676 - mae: 0.1349 - mse: 0.0676\n"
     ]
    },
    {
     "data": {
      "text/plain": [
       "<keras.callbacks.callbacks.History at 0x1a426b9890>"
      ]
     },
     "execution_count": 33,
     "metadata": {},
     "output_type": "execute_result"
    }
   ],
   "source": [
    "from keras.callbacks import EarlyStopping\n",
    "early_stopping_monitor = EarlyStopping(patience=3)\n",
    "\n",
    "model.compile(loss='mse', optimizer='adam', metrics=['mae', 'mse'])\n",
    "\n",
    "model.fit(X_train, y_train, epochs=5, batch_size=10, callbacks=[early_stopping_monitor])"
   ]
  },
  {
   "cell_type": "code",
   "execution_count": 34,
   "metadata": {},
   "outputs": [
    {
     "name": "stdout",
     "output_type": "stream",
     "text": [
      "177476/177476 [==============================] - 0s 3us/step\n"
     ]
    }
   ],
   "source": [
    "score = model.evaluate(X_test, y_test, batch_size=128)"
   ]
  },
  {
   "cell_type": "code",
   "execution_count": 35,
   "metadata": {},
   "outputs": [
    {
     "name": "stdout",
     "output_type": "stream",
     "text": [
      "['loss', 'mae', 'mse']\n",
      "[0.06851879128854918, 0.12988927960395813, 0.06851878017187119]\n"
     ]
    }
   ],
   "source": [
    "print(model.metrics_names)\n",
    "print(score)"
   ]
  },
  {
   "cell_type": "code",
   "execution_count": 47,
   "metadata": {},
   "outputs": [],
   "source": [
    "import pickle\n",
    "filename = 'SNN.pkl'\n",
    "pickle.dump(model, open(filename, 'wb'))"
   ]
  },
  {
   "cell_type": "code",
   "execution_count": 129,
   "metadata": {},
   "outputs": [
    {
     "data": {
      "text/plain": [
       "array([[0.01424173],\n",
       "       [0.14262445],\n",
       "       [0.12089331],\n",
       "       ...,\n",
       "       [0.08449572],\n",
       "       [0.16967745],\n",
       "       [0.11593572]], dtype=float32)"
      ]
     },
     "execution_count": 129,
     "metadata": {},
     "output_type": "execute_result"
    }
   ],
   "source": [
    "y_pred = model.predict(X_test)\n",
    "y_pred = np.where(y_pred > 0.5, 1, 0)"
   ]
  },
  {
   "cell_type": "code",
   "execution_count": 45,
   "metadata": {},
   "outputs": [
    {
     "name": "stdout",
     "output_type": "stream",
     "text": [
      "Accuracy: 92.31%\n"
     ]
    }
   ],
   "source": [
    "from sklearn.metrics import accuracy_score\n",
    "accuracy = accuracy_score(y_test, y_pred_)\n",
    "print(\"Accuracy: %.2f%%\" % (accuracy * 100.0))"
   ]
  },
  {
   "cell_type": "markdown",
   "metadata": {},
   "source": [
    "----------------------------------------------------------------------------------------------------------------------"
   ]
  },
  {
   "cell_type": "markdown",
   "metadata": {},
   "source": [
    "## Adversarial tests starts here"
   ]
  },
  {
   "cell_type": "code",
   "execution_count": 177,
   "metadata": {},
   "outputs": [],
   "source": [
    "modelz = Sequential()\n",
    "modelz.add(Dense(12, input_shape=(16,), activation='relu'))\n",
    "modelz.add(Dense(8, activation='relu'))\n",
    "modelz.add(Dense(2, activation='sigmoid'))"
   ]
  },
  {
   "cell_type": "code",
   "execution_count": 178,
   "metadata": {},
   "outputs": [],
   "source": [
    "modelz.compile(\n",
    "    loss=\"categorical_crossentropy\", optimizer=\"adam\", metrics=[\"accuracy\"]\n",
    ")"
   ]
  },
  {
   "cell_type": "code",
   "execution_count": 179,
   "metadata": {},
   "outputs": [],
   "source": [
    "classifier = KerasClassifier(model=modelz, use_logits=False)"
   ]
  },
  {
   "cell_type": "code",
   "execution_count": 180,
   "metadata": {},
   "outputs": [],
   "source": [
    "y_train_ = np.zeros((y_train.size, y_train.max()+ 1))\n",
    "y_train_[np.arange(y_train.size),y_train] = 1"
   ]
  },
  {
   "cell_type": "code",
   "execution_count": 181,
   "metadata": {},
   "outputs": [
    {
     "name": "stdout",
     "output_type": "stream",
     "text": [
      "Epoch 1/3\n",
      "5546/5546 [==============================] - 5s 984us/step - loss: 0.2573 - accuracy: 0.9243\n",
      "Epoch 2/3\n",
      "5546/5546 [==============================] - 5s 937us/step - loss: 0.2537 - accuracy: 0.9234\n",
      "Epoch 3/3\n",
      "5546/5546 [==============================] - 5s 920us/step - loss: 0.2501 - accuracy: 0.9247\n"
     ]
    }
   ],
   "source": [
    "classifier.fit(X_train, y_train_, nb_epochs=3)\n"
   ]
  },
  {
   "cell_type": "code",
   "execution_count": 243,
   "metadata": {},
   "outputs": [
    {
     "name": "stdout",
     "output_type": "stream",
     "text": [
      "BenignAccuracy: 92.31%\n"
     ]
    }
   ],
   "source": [
    "y_pred = classifier.predict(X_test)\n",
    "y_pred = np.where(y_pred[:,0] < y_pred[:,1], 1, 0)\n",
    "accuracy = accuracy_score(y_test, y_pred)\n",
    "print(\"BenignAccuracy: %.2f%%\" % (accuracy * 100.0))"
   ]
  },
  {
   "cell_type": "code",
   "execution_count": 244,
   "metadata": {},
   "outputs": [
    {
     "name": "stdout",
     "output_type": "stream",
     "text": [
      "art.attacks.evasion.fast_gradient.FastGradientMethod\n"
     ]
    }
   ],
   "source": [
    "attack = UniversalPerturbation(classifier=classifier,attacker = \"fgsm\",eps=0.00001)\n",
    "x_test_adv = attack.generate(x=X_test[:50])"
   ]
  },
  {
   "cell_type": "code",
   "execution_count": 245,
   "metadata": {},
   "outputs": [
    {
     "name": "stdout",
     "output_type": "stream",
     "text": [
      "Malicious Accuracy: 90.00%\n"
     ]
    }
   ],
   "source": [
    "predictions = classifier.predict(x_test_adv)\n",
    "predictions = np.where(predictions[:,0] < predictions[:,1], 1, 0)\n",
    "accuracy = accuracy_score(y_test[:50], predictions)\n",
    "print(\"Malicious Accuracy: %.2f%%\" % (accuracy * 100.0))"
   ]
  },
  {
   "cell_type": "code",
   "execution_count": null,
   "metadata": {},
   "outputs": [],
   "source": []
  },
  {
   "cell_type": "code",
   "execution_count": null,
   "metadata": {},
   "outputs": [],
   "source": []
  }
 ],
 "metadata": {
  "kernelspec": {
   "display_name": "Python 3",
   "language": "python",
   "name": "python3"
  }
 },
 "nbformat": 4,
 "nbformat_minor": 2
}
